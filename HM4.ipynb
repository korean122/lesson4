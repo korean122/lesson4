{
 "cells": [
  {
   "cell_type": "markdown",
   "id": "be42da69",
   "metadata": {},
   "source": [
    "## Домашнее задание к лекции \"Введение в типы данных и циклы. Часть 2\""
   ]
  },
  {
   "cell_type": "markdown",
   "id": "8a03db76",
   "metadata": {},
   "source": [
    "# Задание 1\n",
    "Дана переменная, в которой хранится словарь, содержащий гео-метки для каждого пользователя (пример структуры данных приведен ниже). Вам необходимо написать программу, которая выведет на экран множество уникальных гео-меток всех пользователей.\n",
    "\n",
    "Пример работы программы:\n",
    "\n",
    "ids = {'user1': [213, 213, 213, 15, 213], \n",
    "       'user2': [54, 54, 119, 119, 119], \n",
    "       'user3': [213, 98, 98, 35]}\n",
    "Результат: {98, 35, 15, 213, 54, 119}"
   ]
  },
  {
   "cell_type": "code",
   "execution_count": 226,
   "id": "9cd643c4",
   "metadata": {},
   "outputs": [
    {
     "name": "stdout",
     "output_type": "stream",
     "text": [
      "{98, 35, 15, 213, 54, 119}\n"
     ]
    }
   ],
   "source": [
    "ids = {\n",
    "    'user1': [213, 213, 213, 15, 213], \n",
    "    'user2': [54, 54, 119, 119, 119], \n",
    "    'user3': [213, 98, 98, 35]\n",
    "}\n",
    "only_values = ids.values()\n",
    "uniq_values = []\n",
    "for x in only_values:\n",
    "    #print(x)\n",
    "    for y in x:\n",
    "        uniq_values.append(y)\n",
    "print(set(uniq_values))"
   ]
  },
  {
   "cell_type": "markdown",
   "id": "54266f75",
   "metadata": {},
   "source": [
    "# Задание 2\n",
    "Дана переменная, в которой хранится список поисковых запросов пользователя (пример структуры данных приведен ниже). Вам необходимо написать программу, которая выведет на экран распределение количества слов в запросах в требуемом виде.\n",
    "\n",
    "Пример работы программы:\n",
    "\n",
    "queries = [\n",
    "    'смотреть сериалы онлайн',\n",
    "    'новости спорта',\n",
    "    'афиша кино',\n",
    "    'курс доллара',\n",
    "    'сериалы этим летом',\n",
    "    'курс по питону',\n",
    "    'сериалы про спорт',\n",
    "]\n",
    "Результат:\n",
    "\n",
    "Поисковых запросов, содержащих 2 слов(а): 42.86%\n",
    "Поисковых запросов, содержащих 3 слов(а): 57.14%"
   ]
  },
  {
   "cell_type": "code",
   "execution_count": 320,
   "id": "e8a0f64f",
   "metadata": {},
   "outputs": [
    {
     "name": "stdout",
     "output_type": "stream",
     "text": [
      "Поисковых запросов, содержащих 3 слов(а): 57.14%\n",
      "Поисковых запросов, содержащих 2 слов(а): 42.86%\n"
     ]
    }
   ],
   "source": [
    "#найти уникальные значения множеств. Вариант: словарь, где ключем будет количество или найти множество через список\n",
    "queries = [\n",
    "    'смотреть сериалы онлайн',\n",
    "    'новости спорта',\n",
    "    'афиша кино',\n",
    "    'курс доллара',\n",
    "    'сериалы этим летом',\n",
    "    'курс по питону',\n",
    "    'сериалы про спорт',\n",
    "]\n",
    "word_count_dict = {} #Создадим словарь в котором ключем будет количество слов в значении\n",
    "for x in queries:\n",
    "    word_count = x.split()\n",
    "    if len(word_count) in word_count_dict.keys():\n",
    "        word_count_dict[len(word_count)] = word_count_dict[len(word_count)] + 1\n",
    "    else:\n",
    "        word_count_dict.update({len(word_count): 1})\n",
    "\n",
    "for key, value in word_count_dict.items(): #разобьем словарь на две переменные\n",
    "    percent = round((value / len(queries)) * 100, 2)\n",
    "    print(f'Поисковых запросов, содержащих {key} слов(а): {percent}%')"
   ]
  },
  {
   "cell_type": "markdown",
   "id": "43448a2d",
   "metadata": {},
   "source": [
    "# Задание 3\n",
    "Дана переменная, в которой хранится информация о затратах и доходе рекламных кампаний по различным источникам. Необходимо дополнить исходную структуру показателем ROI, который рассчитаем по формуле: (revenue / cost - 1) * 100\n",
    "\n",
    "Пример работы программы:\n",
    "\n",
    "results = {\n",
    "    'vk': {'revenue': 103, 'cost': 98},\n",
    "    'yandex': {'revenue': 179, 'cost': 153},\n",
    "    'facebook': {'revenue': 103, 'cost': 110},\n",
    "    'adwords': {'revenue': 35, 'cost': 34},\n",
    "    'twitter': {'revenue': 11, 'cost': 24},\n",
    "}\n",
    "Результат:\n",
    "\n",
    "{'adwords': {'revenue': 35, 'cost': 34, 'ROI': 2.94},\n",
    " 'facebook': {'revenue': 103, 'cost': 110, 'ROI': -6.36},\n",
    " 'twitter': {'revenue': 11, 'cost': 24, 'ROI': -54.17},\n",
    " 'vk': {'revenue': 103, 'cost': 98, 'ROI': 5.1},\n",
    " 'yandex': {'revenue': 179, 'cost': 153, 'ROI': 16.99}}"
   ]
  },
  {
   "cell_type": "code",
   "execution_count": 334,
   "id": "874565f4",
   "metadata": {},
   "outputs": [
    {
     "name": "stdout",
     "output_type": "stream",
     "text": [
      "vk {'revenue': 103, 'cost': 98, 'ROI': 5.1}\n",
      "yandex {'revenue': 179, 'cost': 153, 'ROI': 16.99}\n",
      "facebook {'revenue': 103, 'cost': 110, 'ROI': -6.36}\n",
      "adwords {'revenue': 35, 'cost': 34, 'ROI': 2.94}\n",
      "twitter {'revenue': 11, 'cost': 24, 'ROI': -54.17}\n"
     ]
    }
   ],
   "source": [
    "results = { \n",
    "    'vk': \n",
    "        {'revenue': 103, 'cost': 98}, \n",
    "    'yandex': \n",
    "        {'revenue': 179, 'cost': 153}, \n",
    "    'facebook': \n",
    "        {'revenue': 103, 'cost': 110}, \n",
    "    'adwords': \n",
    "        {'revenue': 35, 'cost': 34}, \n",
    "    'twitter': \n",
    "        {'revenue': 11, 'cost': 24}, \n",
    "}\n",
    "\n",
    "for key, value in results.items(): #разобьем словарь на две переменные (ключ, значение)\n",
    "    #print(key)\n",
    "    #print (value)\n",
    "    #print(type(value))\n",
    "    value['ROI'] = round(((value['revenue'] / value['cost']) - 1)*100 , 2)\n",
    "    print(key, value)"
   ]
  },
  {
   "cell_type": "markdown",
   "id": "f5c64836",
   "metadata": {},
   "source": [
    "# Задание 4\n",
    "Дана переменная, в которой хранится статистика рекламных каналов по объемам продаж (пример структуры данных приведен ниже). Напишите программу, которая возвращает название канала с максимальным объемом продаж.\n",
    "\n",
    "Пример работы программы:\n",
    "\n",
    "stats = {'facebook': 55, 'yandex': 115, 'vk': 120, 'google': 99, 'email': 42, 'ok': 98}\n",
    "\n",
    "Результат: Максимальный объем продаж на рекламном канале: vk"
   ]
  },
  {
   "cell_type": "code",
   "execution_count": 379,
   "id": "aa8be705",
   "metadata": {},
   "outputs": [
    {
     "name": "stdout",
     "output_type": "stream",
     "text": [
      "Максимальный объем продаж на рекламном канале:  vk\n"
     ]
    }
   ],
   "source": [
    "stats = {'facebook': 55, 'yandex': 115, 'vk': 120, 'google': 99, 'email': 42, 'ok': 98}\n",
    "#max_val = max(stats.items()) #вернёт и ключ и значение в виде кортежа ('yandex', 120)\n",
    "#print(max_val). В таком нагугленном виде выдавался неверный ответ. Яндекс вместо ВК. \n",
    "#Судя по всему в данном случае максимум брался от ключа. \n",
    "#Потому что аналогичное действие со списком также выдавало аналогичный результат\n",
    "#stats = ('facebook', 'yandex', 'vk', 'google', 'email', 'ok')\n",
    "#max(stats) = yandex \n",
    "\n",
    "print(\"Максимальный объем продаж на рекламном канале: \", max(stats, key = stats.get)) \n",
    "\n",
    "#В таком виде функция max выдает верный ответ, но как точно работает алгоритм я так и не понял. \n",
    "#Понятно что get используется для доступа к элементам словаря, но как получилось максимальное значнение непонятно. \n",
    "#Описано тут: https://docs-python.ru/tutorial/vstroennye-funktsii-interpretatora-python/funktsija-max/, но все равно не понятно."
   ]
  },
  {
   "cell_type": "markdown",
   "id": "ceb19087",
   "metadata": {},
   "source": [
    "# Задание 5 (необязательно)\n",
    "Дан список произвольной длины. Необходимо написать код, который на основе исходного списка составит словарь такого уровня вложенности, какова длина исхондого списка.\n",
    "\n",
    "Примеры работы программы:\n",
    "\n",
    "my_list = ['2018-01-01', 'yandex', 'cpc', 100]\n",
    "Результат: {'2018-01-01': {'yandex': {'cpc': 100}}}\n",
    "\n",
    "my_list = ['a', 'b', 'c', 'd', 'e', 'f']\n",
    "Результат: {'a': {'b': {'c': {'d': {'e': 'f'}}}}}\n"
   ]
  },
  {
   "cell_type": "code",
   "execution_count": 38,
   "id": "3bac638f",
   "metadata": {},
   "outputs": [
    {
     "name": "stdout",
     "output_type": "stream",
     "text": [
      "{'a': {'b': {'c': {'d': {'e': 'f'}}}}}\n"
     ]
    },
    {
     "data": {
      "text/plain": [
       "' тактика обучения гуглением конечно... По-моему обьяснять изначально хотя бы алгоритм решения (писать его к примеру в условии задачи) \\nдля наработки опыта мышления гораздо важнее чем нарабатывать опыт правильного, но абсолютно бездумного гугления. Ну раз так надо... \\nРешение нагуглено. Попробую хотя бы разобрать что оно делает. Хотя я не понимаю ни зачем вообще это может быть нужно, \\nхотя бы какой-нибудь пример из жизни для тупого гуманитария, ни саму логику того как это делать, что по-моему находится в прямой зависимости между собой'"
      ]
     },
     "execution_count": 38,
     "metadata": {},
     "output_type": "execute_result"
    }
   ],
   "source": [
    "my_list = ['2018-01-01', 'yandex', 'cpc', 100]\n",
    "my_list2 = ['a', 'b', 'c', 'd', 'e', 'f']\n",
    "my_dict = {my_list2[-2]: my_list2[-1]} \n",
    "#Создаем словарь где в качестве ключа используем предпоследнее значение списка, а в качестве значения, последнее.\n",
    "#очевидно это связано с условием \"независимо от длинны списка\"\n",
    "#print(my_dict)\n",
    "#print(my_list[:-2][::-1])\n",
    "for i in my_list2[:-2][::-1]:\n",
    "#теперь перебираем все что меньше индекса -2 c шагом -1, при этом в my_dict где уже лежит последнее и предпоследнее значение в качестве ключа и значения, добавляется одно значение с конца.\n",
    "    my_dict = {i:my_dict} \n",
    "    #Вот эта строка мне совсем непонятна. \n",
    "    #Хорошо, в ключ мы кладем данные из переменной i, а что мы кладем в значения? \n",
    "    #или условия из третьей строки (my_dict = {my_list2[-2]: my_list2[-1]}) в рамках цикла каждый раз меняют значения?\n",
    "print(my_dict)\n",
    "  \n",
    "'''но самое главное, я ведь так и не понял, как я мог прийти к этому логически (придумать идею) \n",
    "если бы у меня не было кода перед глазами. \n",
    "Пробовал рисовать руками что должно получится, все равно не понял, даже как без кода это сделать.\n",
    "пробовал даже значения менять на менее абстрактные, но нафига такая матрешка вообще не понимаю. \n",
    "Но формально, как все в этой волшебной стране - типа выполнено.'''\n",
    "\n",
    "''' тактика обучения гуглением конечно... По-моему обьяснять изначально хотя бы алгоритм решения (писать его к примеру в условии задачи) \n",
    "для наработки опыта мышления гораздо важнее чем нарабатывать опыт правильного, но абсолютно бездумного гугления. Ну раз так надо... \n",
    "Решение нагуглено. Попробую хотя бы разобрать что оно делает. Хотя я не понимаю ни зачем вообще это может быть нужно, \n",
    "хотя бы какой-нибудь пример из жизни для тупого гуманитария, ни саму логику того как это делать, что по-моему находится в прямой зависимости между собой'''"
   ]
  },
  {
   "cell_type": "markdown",
   "id": "3c666914",
   "metadata": {},
   "source": [
    "# Задание 6 (необязательно)\n",
    "Дана книга рецептов с информацией о том, сколько ингредиентов нужно для приготовления блюда в расчете на одну порцию (пример данных представлен ниже).\n",
    "Напишите программу, которая будет запрашивать у пользователя количество порций для приготовления этих блюд и отображать информацию о суммарном количестве требуемых ингредиентов в указанном виде.\n",
    "Внимание! Одинаковые ингридиенты с разными размерностями нужно считать раздельно!\n",
    "Пример работы программы:\n",
    "\n",
    "cook_book = {\n",
    "  'салат': [\n",
    "     {'ingridient_name': 'сыр', 'quantity': 50, 'measure': 'гр'},\n",
    "     {'ingridient_name': 'томаты', 'quantity': 2, 'measure': 'шт'},\n",
    "     {'ingridient_name': 'огурцы', 'quantity': 20, 'measure': 'гр'},\n",
    "     {'ingridient_name': 'маслины', 'quantity': 10, 'measure': 'гр'},\n",
    "     {'ingridient_name': 'оливковое масло', 'quantity': 20, 'measure': 'мл'},\n",
    "     {'ingridient_name': 'салат', 'quantity': 10, 'measure': 'гр'},\n",
    "     {'ingridient_name': 'перец', 'quantity': 20, 'measure': 'гр'}\n",
    "    ],\n",
    "  'пицца': [\n",
    "     {'ingridient_name': 'сыр', 'quantity': 20, 'measure': 'гр'},\n",
    "     {'ingridient_name': 'колбаса', 'quantity': 30, 'measure': 'гр'},\n",
    "     {'ingridient_name': 'бекон', 'quantity': 30, 'measure': 'гр'},\n",
    "     {'ingridient_name': 'оливки', 'quantity': 10, 'measure': 'гр'},\n",
    "     {'ingridient_name': 'томаты', 'quantity': 20, 'measure': 'гр'},\n",
    "     {'ingridient_name': 'тесто', 'quantity': 100, 'measure': 'гр'},   \n",
    "    ],\n",
    "  'лимонад': [\n",
    "     {'ingridient_name': 'лимон', 'quantity': 1, 'measure': 'шт'},\n",
    "     {'ingridient_name': 'вода', 'quantity': 200, 'measure': 'мл'},\n",
    "     {'ingridient_name': 'сахар', 'quantity': 10, 'measure': 'гр'},\n",
    "     {'ingridient_name': 'лайм', 'quantity': 20, 'measure': 'гр'},    \n",
    "    ]\n",
    "}\n",
    "\n",
    "Введите количество порций:  \n",
    "3\n",
    "Результат:\n",
    "\n",
    "Сыр: 210 гр  \n",
    "Томаты: 6 шт  \n",
    "Огурцы: 60 гр  \n",
    "Маслины: 30 гр  \n",
    "Оливковое масло: 60 мл  \n",
    "Салат: 30 гр  \n",
    "Перец: 60 гр  \n",
    "Колбаса: 90 гр  \n",
    "Бекон: 90 гр  \n",
    "Оливки: 30 гр  \n",
    "Томаты: 60 гр  \n",
    "Тесто: 300 гр  \n",
    "Лимон: 3 шт  \n",
    "Вода: 600 мл  \n",
    "Сахар: 30 гр  \n",
    "Лайм: 60 гр"
   ]
  },
  {
   "cell_type": "markdown",
   "id": "e16bfe61",
   "metadata": {},
   "source": [
    "Я вероятно настолько туп, что не понимаю такую форму обучения, мы не хотим обьяснять что надо делать - это 5 минут или заставим убить три часа на гугление. Конечно выберем гугление. Мы же в России. Обьяснять тут не принято. \n",
    "Задание по тексту состоит в том, чтобы придумать как посчитать ингридинеты, но суть задания в том что словарь состоит из значений в виде списка, внутри которого словари. И надо привести этот словарь в какое-то упорядоченное состояние. То ли в словарь, то ли в список, то ли в кортежи. Во что лучше? Да фиг его знает. Как обучающийся должен догадаться? Да фиг его знает. Пусть гуглит, как в армии. Чем тупее и глубже тем веселее.\n",
    "А зачем тогда в принципе лекции читать, обьяснять чего-то, да просто накидаем занятий и они сами нагуглят. А задолбаются гуглить, в slack напишут. Почему нельзя тогда сначала лекцию прочесть какие типы данных для каких задач лучше. Отдельный блок как что во что переводить, с соответствующими заданиями переведи это в это.\n",
    "А так конечно, огонь. В лекции один абзац (2 минуты) как что-то добавить в словарь, но ни одного слова, как разбирать сложные словари или списки из разных типов данных.\n",
    "    В Slack предлагают ключи переделать в кортежи. Круто. намеки. Все как мы любим. Вопрос тупого гуманитария, почему в кортежи? Почему словарь из списков со словарями в значениях, а надо с кортежами в ключах? Зачем? И как до этого без каких либо обьяснений доходить?\n",
    "    Ну нагуглю я вагон решений, сколько надо 2 или 10? Я же не курс правильного гугления прохожу, я хочу научится не гуглить, я это умею!"
   ]
  },
  {
   "cell_type": "code",
   "execution_count": 172,
   "id": "6fc419c9",
   "metadata": {},
   "outputs": [
    {
     "name": "stdout",
     "output_type": "stream",
     "text": [
      "Введите количество порций: 5\n",
      "Сыр: 250 гр\n",
      "Томаты: 10 шт\n",
      "Огурцы: 100 гр\n",
      "Маслины: 50 гр\n",
      "Оливковое масло: 100 мл\n",
      "Салат: 50 гр\n",
      "Перец: 100 гр\n",
      "Сыр: 100 гр\n",
      "Колбаса: 150 гр\n",
      "Бекон: 150 гр\n",
      "Оливки: 50 гр\n",
      "Томаты: 100 гр\n",
      "Тесто: 500 гр\n",
      "Лимон: 5 шт\n",
      "Вода: 1000 мл\n",
      "Сахар: 50 гр\n",
      "Лайм: 100 гр\n"
     ]
    }
   ],
   "source": [
    "cook_book = {\n",
    "'салат': [\n",
    "{'ingridient_name': 'сыр', 'quantity': 50, 'measure': 'гр'},\n",
    "{'ingridient_name': 'томаты', 'quantity': 2, 'measure': 'шт'},\n",
    "{'ingridient_name': 'огурцы', 'quantity': 20, 'measure': 'гр'},\n",
    "{'ingridient_name': 'маслины', 'quantity': 10, 'measure': 'гр'},\n",
    "{'ingridient_name': 'оливковое масло', 'quantity': 20, 'measure': 'мл'},\n",
    "{'ingridient_name': 'салат', 'quantity': 10, 'measure': 'гр'},\n",
    "{'ingridient_name': 'перец', 'quantity': 20, 'measure': 'гр'}\n",
    "],\n",
    "'пицца': [\n",
    "{'ingridient_name': 'сыр', 'quantity': 20, 'measure': 'гр'},\n",
    "{'ingridient_name': 'колбаса', 'quantity': 30, 'measure': 'гр'},\n",
    "{'ingridient_name': 'бекон', 'quantity': 30, 'measure': 'гр'},\n",
    "{'ingridient_name': 'оливки', 'quantity': 10, 'measure': 'гр'},\n",
    "{'ingridient_name': 'томаты', 'quantity': 20, 'measure': 'гр'},\n",
    "{'ingridient_name': 'тесто', 'quantity': 100, 'measure': 'гр'},\n",
    "],\n",
    "'лимонад': [\n",
    "{'ingridient_name': 'лимон', 'quantity': 1, 'measure': 'шт'},\n",
    "{'ingridient_name': 'вода', 'quantity': 200, 'measure': 'мл'},\n",
    "{'ingridient_name': 'сахар', 'quantity': 10, 'measure': 'гр'},\n",
    "{'ingridient_name': 'лайм', 'quantity': 20, 'measure': 'гр'},\n",
    "]\n",
    "}\n",
    "portions = int(input('Введите количество порций: '))\n",
    "for dish, ingr in cook_book.items():\n",
    "    for el in ingr:\n",
    "        print(f'{el[\"ingridient_name\"].capitalize()}: {el[\"quantity\"] * portions} {el[\"measure\"]}')"
   ]
  },
  {
   "cell_type": "code",
   "execution_count": null,
   "id": "f8ef892b",
   "metadata": {},
   "outputs": [],
   "source": [
    "cook_book = {\n",
    "  'салат': [\n",
    "     {'ingridient_name': 'сыр', 'quantity': 50, 'measure': 'гр'},\n",
    "     {'ingridient_name': 'томаты', 'quantity': 2, 'measure': 'шт'},\n",
    "     {'ingridient_name': 'огурцы', 'quantity': 20, 'measure': 'гр'},\n",
    "     {'ingridient_name': 'маслины', 'quantity': 10, 'measure': 'гр'},\n",
    "     {'ingridient_name': 'оливковое масло', 'quantity': 20, 'measure': 'мл'},\n",
    "     {'ingridient_name': 'салат', 'quantity': 10, 'measure': 'гр'},\n",
    "     {'ingridient_name': 'перец', 'quantity': 20, 'measure': 'гр'}\n",
    "    ],\n",
    "  'пицца': [\n",
    "     {'ingridient_name': 'сыр', 'quantity': 20, 'measure': 'гр'},\n",
    "     {'ingridient_name': 'колбаса', 'quantity': 30, 'measure': 'гр'},\n",
    "     {'ingridient_name': 'бекон', 'quantity': 30, 'measure': 'гр'},\n",
    "     {'ingridient_name': 'оливки', 'quantity': 10, 'measure': 'гр'},\n",
    "     {'ingridient_name': 'томаты', 'quantity': 20, 'measure': 'гр'},\n",
    "     {'ingridient_name': 'тесто', 'quantity': 100, 'measure': 'гр'},   \n",
    "    ],\n",
    "  'лимонад': [\n",
    "     {'ingridient_name': 'лимон', 'quantity': 1, 'measure': 'шт'},\n",
    "     {'ingridient_name': 'вода', 'quantity': 200, 'measure': 'мл'},\n",
    "     {'ingridient_name': 'сахар', 'quantity': 10, 'measure': 'гр'},\n",
    "     {'ingridient_name': 'лайм', 'quantity': 20, 'measure': 'гр'},    \n",
    "    ]\n",
    "}\n",
    "\n",
    "\n",
    "portions = 3      \n",
    "for l in list(cook_book.values()):\n",
    "    for el in l:\n",
    "        print(el['ingridient_name'],portions*el['quantity'],el['measure'])"
   ]
  },
  {
   "cell_type": "code",
   "execution_count": null,
   "id": "7be699df",
   "metadata": {},
   "outputs": [],
   "source": [
    "cook_book = {\n",
    "  'салат': [\n",
    "     {'ingridient_name': 'сыр', 'quantity': 50, 'measure': 'гр'},\n",
    "     {'ingridient_name': 'томаты', 'quantity': 2, 'measure': 'шт'},\n",
    "     {'ingridient_name': 'огурцы', 'quantity': 20, 'measure': 'гр'},\n",
    "     {'ingridient_name': 'маслины', 'quantity': 10, 'measure': 'гр'},\n",
    "     {'ingridient_name': 'оливковое масло', 'quantity': 20, 'measure': 'мл'},\n",
    "     {'ingridient_name': 'салат', 'quantity': 10, 'measure': 'гр'},\n",
    "     {'ingridient_name': 'перец', 'quantity': 20, 'measure': 'гр'}\n",
    "    ],\n",
    "  'пицца': [\n",
    "     {'ingridient_name': 'сыр', 'quantity': 20, 'measure': 'гр'},\n",
    "     {'ingridient_name': 'колбаса', 'quantity': 30, 'measure': 'гр'},\n",
    "     {'ingridient_name': 'бекон', 'quantity': 30, 'measure': 'гр'},\n",
    "     {'ingridient_name': 'оливки', 'quantity': 10, 'measure': 'гр'},\n",
    "     {'ingridient_name': 'томаты', 'quantity': 20, 'measure': 'гр'},\n",
    "     {'ingridient_name': 'тесто', 'quantity': 100, 'measure': 'гр'},   \n",
    "    ],\n",
    "  'лимонад': [\n",
    "     {'ingridient_name': 'лимон', 'quantity': 1, 'measure': 'шт'},\n",
    "     {'ingridient_name': 'вода', 'quantity': 200, 'measure': 'мл'},\n",
    "     {'ingridient_name': 'сахар', 'quantity': 10, 'measure': 'гр'},\n",
    "     {'ingridient_name': 'лайм', 'quantity': 20, 'measure': 'гр'},    \n",
    "    ]\n",
    "}\n",
    "\n",
    "num = int(input('Введите количество порций: '))\n",
    "print('НЕОБХОДИМЫЕ ИНГРИДИЕНТЫ:')\n",
    "product_list = []\n",
    "for food in cook_book.values():\n",
    "    product_list += food\n",
    "ingridient_and_measure = []\n",
    "quantity = []\n",
    "for product in product_list:\n",
    "    ingr = [product['ingridient_name'], product['measure']]\n",
    "    quant = num * product['quantity']\n",
    "    if ingr not in ingridient_and_measure:\n",
    "        ingridient_and_measure.append(ingr)\n",
    "        quantity.append(quant)\n",
    "    else:\n",
    "        quantity[ingridient_and_measure.index(ingr)] += quant \n",
    "for i in range(len(ingridient_and_measure)):\n",
    "    print(ingridient_and_measure[i][0].capitalize(), ':', quantity[i], ingridient_and_measure[i][1])"
   ]
  },
  {
   "cell_type": "code",
   "execution_count": null,
   "id": "0d32e3c1",
   "metadata": {},
   "outputs": [],
   "source": [
    "cook_book = {\n",
    "  'салат': [\n",
    "     {'ingridient_name': 'сыр', 'quantity': 50, 'measure': 'гр'},\n",
    "     {'ingridient_name': 'томаты', 'quantity': 2, 'measure': 'шт'},\n",
    "     {'ingridient_name': 'огурцы', 'quantity': 20, 'measure': 'гр'},\n",
    "     {'ingridient_name': 'маслины', 'quantity': 10, 'measure': 'гр'},\n",
    "     {'ingridient_name': 'оливковое масло', 'quantity': 20, 'measure': 'мл'},\n",
    "     {'ingridient_name': 'салат', 'quantity': 10, 'measure': 'гр'},\n",
    "     {'ingridient_name': 'перец', 'quantity': 20, 'measure': 'гр'}\n",
    "    ],\n",
    "  'пицца': [\n",
    "     {'ingridient_name': 'сыр', 'quantity': 20, 'measure': 'гр'},\n",
    "     {'ingridient_name': 'колбаса', 'quantity': 30, 'measure': 'гр'},\n",
    "     {'ingridient_name': 'бекон', 'quantity': 30, 'measure': 'гр'},\n",
    "     {'ingridient_name': 'оливки', 'quantity': 10, 'measure': 'гр'},\n",
    "     {'ingridient_name': 'томаты', 'quantity': 20, 'measure': 'гр'},\n",
    "     {'ingridient_name': 'тесто', 'quantity': 100, 'measure': 'гр'},   \n",
    "    ],\n",
    "  'лимонад': [\n",
    "     {'ingridient_name': 'лимон', 'quantity': 1, 'measure': 'шт'},\n",
    "     {'ingridient_name': 'вода', 'quantity': 200, 'measure': 'мл'},\n",
    "     {'ingridient_name': 'сахар', 'quantity': 10, 'measure': 'гр'},\n",
    "     {'ingridient_name': 'лайм', 'quantity': 20, 'measure': 'гр'},    \n",
    "    ]\n",
    "}\n",
    "\n",
    "num = int(input('Введите количество порций: '))\n",
    "print('НЕОБХОДИМЫЕ ИНГРИДИЕНТЫ:')\n",
    "products = []\n",
    "for food in cook_book.values():\n",
    "    products += food\n",
    "measure = {}\n",
    "for product in products:\n",
    "    if product['ingridient_name'] not in measure:\n",
    "        measure[product['ingridient_name']] = [num * product['quantity'], product['measure']]\n",
    "    else:\n",
    "        if measure[product['ingridient_name']][1] == product['measure']:\n",
    "            measure[product['ingridient_name']][0] += num * product['quantity']\n",
    "        else:\n",
    "            measure[product['ingridient_name']].append(num * product['quantity'])  \n",
    "            measure[product['ingridient_name']].append(product['measure'])\n",
    "for key, value in measure.items():\n",
    "    for i in range(len(value)):\n",
    "        if i % 2 == 0: \n",
    "            print (key.capitalize(), ':', value[i], value[i + 1])"
   ]
  }
 ],
 "metadata": {
  "kernelspec": {
   "display_name": "Python 3",
   "language": "python",
   "name": "python3"
  },
  "language_info": {
   "codemirror_mode": {
    "name": "ipython",
    "version": 3
   },
   "file_extension": ".py",
   "mimetype": "text/x-python",
   "name": "python",
   "nbconvert_exporter": "python",
   "pygments_lexer": "ipython3",
   "version": "3.8.8"
  }
 },
 "nbformat": 4,
 "nbformat_minor": 5
}
