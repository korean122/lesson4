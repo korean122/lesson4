{
 "cells": [
  {
   "cell_type": "markdown",
   "id": "be42da69",
   "metadata": {},
   "source": [
    "## Домашнее задание к лекции \"Введение в типы данных и циклы. Часть 2\""
   ]
  },
  {
   "cell_type": "markdown",
   "id": "67053416",
   "metadata": {},
   "source": [
    "## Вопросы:\n",
    "max(stats, key = stats.get)) Почему нельзя использовать вместе get value. А если можно то как записать?\n",
    "**5 задание для меня очень сложно в осознании самого действия**\n",
    "Я даже мысленно не могу понять как это сделать. Даже когда абстрактные значения переделываю в \"кубики\". \n",
    "И я не понимаю вообще для чего это нужно. Т.е. понятно что надо и все, но чтобы научится, мне надо понять для чего это в реальности может быть использовано. И желательно за пределами кода. \n",
    "Задание 6. \n",
    "Самое лаконичное решение не позволяет разбить код на блюда.\n",
    "Салат:\n",
    "сыр = 150гр\n",
    "варенье = 10гр.\n",
    "Пицца:\n",
    "сыр = 200гр.\n",
    "....\n",
    "1. Есть ли столько же лаконичное решение, но использующее наименование блюда. Простая вставка наименования блюда в print выдает к какждой строке название блюда что некрасиво.\n",
    "2. Не понятно с типами данных. Вроде как первый цикл создает три списка, но почему их нельзя использовать положив в три переменные, чтобы в print структурировать. А если можно, то как.\n",
    "3. Изначально еще до кода кажется (логически) что данные надо \"причесать\" привести к одному типу. Но в ходе разбора готового решения получается что это совсем не так. Ход мысли - мне надо добраться до такого-то значения, тоже работает не очень, потому что словарь со списком со словарями сбивает с толку. Это скорее не вопрос даже. Не понятно как должна двигаться мысль в таком случае. \n"
   ]
  },
  {
   "cell_type": "markdown",
   "id": "8a03db76",
   "metadata": {},
   "source": [
    "# Задание 1\n",
    "Дана переменная, в которой хранится словарь, содержащий гео-метки для каждого пользователя (пример структуры данных приведен ниже). Вам необходимо написать программу, которая выведет на экран множество уникальных гео-меток всех пользователей.\n",
    "\n",
    "Пример работы программы:\n",
    "\n",
    "ids = {'user1': [213, 213, 213, 15, 213], \n",
    "       'user2': [54, 54, 119, 119, 119], \n",
    "       'user3': [213, 98, 98, 35]}\n",
    "Результат: {98, 35, 15, 213, 54, 119}"
   ]
  },
  {
   "cell_type": "code",
   "execution_count": 226,
   "id": "9cd643c4",
   "metadata": {},
   "outputs": [
    {
     "name": "stdout",
     "output_type": "stream",
     "text": [
      "{98, 35, 15, 213, 54, 119}\n"
     ]
    }
   ],
   "source": [
    "ids = {\n",
    "    'user1': [213, 213, 213, 15, 213], \n",
    "    'user2': [54, 54, 119, 119, 119], \n",
    "    'user3': [213, 98, 98, 35]\n",
    "}\n",
    "only_values = ids.values()\n",
    "uniq_values = []\n",
    "for x in only_values:\n",
    "    #print(x)\n",
    "    for y in x:\n",
    "        uniq_values.append(y)\n",
    "print(set(uniq_values))"
   ]
  },
  {
   "cell_type": "markdown",
   "id": "54266f75",
   "metadata": {},
   "source": [
    "# Задание 2\n",
    "Дана переменная, в которой хранится список поисковых запросов пользователя (пример структуры данных приведен ниже). Вам необходимо написать программу, которая выведет на экран распределение количества слов в запросах в требуемом виде.\n",
    "\n",
    "Пример работы программы:\n",
    "\n",
    "queries = [\n",
    "    'смотреть сериалы онлайн',\n",
    "    'новости спорта',\n",
    "    'афиша кино',\n",
    "    'курс доллара',\n",
    "    'сериалы этим летом',\n",
    "    'курс по питону',\n",
    "    'сериалы про спорт',\n",
    "]\n",
    "Результат:\n",
    "\n",
    "Поисковых запросов, содержащих 2 слов(а): 42.86%\n",
    "Поисковых запросов, содержащих 3 слов(а): 57.14%"
   ]
  },
  {
   "cell_type": "code",
   "execution_count": 320,
   "id": "e8a0f64f",
   "metadata": {},
   "outputs": [
    {
     "name": "stdout",
     "output_type": "stream",
     "text": [
      "Поисковых запросов, содержащих 3 слов(а): 57.14%\n",
      "Поисковых запросов, содержащих 2 слов(а): 42.86%\n"
     ]
    }
   ],
   "source": [
    "#найти уникальные значения множеств. Вариант: словарь, где ключем будет количество или найти множество через список\n",
    "queries = [\n",
    "    'смотреть сериалы онлайн',\n",
    "    'новости спорта',\n",
    "    'афиша кино',\n",
    "    'курс доллара',\n",
    "    'сериалы этим летом',\n",
    "    'курс по питону',\n",
    "    'сериалы про спорт',\n",
    "]\n",
    "word_count_dict = {} #Создадим словарь в котором ключем будет количество слов в значении\n",
    "for x in queries:\n",
    "    word_count = x.split()\n",
    "    if len(word_count) in word_count_dict.keys():\n",
    "        word_count_dict[len(word_count)] = word_count_dict[len(word_count)] + 1\n",
    "    else:\n",
    "        word_count_dict.update({len(word_count): 1})\n",
    "\n",
    "for key, value in word_count_dict.items(): #разобьем словарь на две переменные\n",
    "    percent = round((value / len(queries)) * 100, 2)\n",
    "    print(f'Поисковых запросов, содержащих {key} слов(а): {percent}%')"
   ]
  },
  {
   "cell_type": "markdown",
   "id": "43448a2d",
   "metadata": {},
   "source": [
    "# Задание 3\n",
    "Дана переменная, в которой хранится информация о затратах и доходе рекламных кампаний по различным источникам. Необходимо дополнить исходную структуру показателем ROI, который рассчитаем по формуле: (revenue / cost - 1) * 100\n",
    "\n",
    "Пример работы программы:\n",
    "\n",
    "results = {\n",
    "    'vk': {'revenue': 103, 'cost': 98},\n",
    "    'yandex': {'revenue': 179, 'cost': 153},\n",
    "    'facebook': {'revenue': 103, 'cost': 110},\n",
    "    'adwords': {'revenue': 35, 'cost': 34},\n",
    "    'twitter': {'revenue': 11, 'cost': 24},\n",
    "}\n",
    "Результат:\n",
    "\n",
    "{'adwords': {'revenue': 35, 'cost': 34, 'ROI': 2.94},\n",
    " 'facebook': {'revenue': 103, 'cost': 110, 'ROI': -6.36},\n",
    " 'twitter': {'revenue': 11, 'cost': 24, 'ROI': -54.17},\n",
    " 'vk': {'revenue': 103, 'cost': 98, 'ROI': 5.1},\n",
    " 'yandex': {'revenue': 179, 'cost': 153, 'ROI': 16.99}}"
   ]
  },
  {
   "cell_type": "code",
   "execution_count": 334,
   "id": "874565f4",
   "metadata": {},
   "outputs": [
    {
     "name": "stdout",
     "output_type": "stream",
     "text": [
      "vk {'revenue': 103, 'cost': 98, 'ROI': 5.1}\n",
      "yandex {'revenue': 179, 'cost': 153, 'ROI': 16.99}\n",
      "facebook {'revenue': 103, 'cost': 110, 'ROI': -6.36}\n",
      "adwords {'revenue': 35, 'cost': 34, 'ROI': 2.94}\n",
      "twitter {'revenue': 11, 'cost': 24, 'ROI': -54.17}\n"
     ]
    }
   ],
   "source": [
    "results = { \n",
    "    'vk': \n",
    "        {'revenue': 103, 'cost': 98}, \n",
    "    'yandex': \n",
    "        {'revenue': 179, 'cost': 153}, \n",
    "    'facebook': \n",
    "        {'revenue': 103, 'cost': 110}, \n",
    "    'adwords': \n",
    "        {'revenue': 35, 'cost': 34}, \n",
    "    'twitter': \n",
    "        {'revenue': 11, 'cost': 24}, \n",
    "}\n",
    "\n",
    "for key, value in results.items(): #разобьем словарь на две переменные (ключ, значение)\n",
    "    #print(key)\n",
    "    #print (value)\n",
    "    #print(type(value))\n",
    "    value['ROI'] = round(((value['revenue'] / value['cost']) - 1)*100 , 2)\n",
    "    print(key, value)"
   ]
  },
  {
   "cell_type": "markdown",
   "id": "f5c64836",
   "metadata": {},
   "source": [
    "# Задание 4\n",
    "Дана переменная, в которой хранится статистика рекламных каналов по объемам продаж (пример структуры данных приведен ниже). Напишите программу, которая возвращает название канала с максимальным объемом продаж.\n",
    "\n",
    "Пример работы программы:\n",
    "\n",
    "stats = {'facebook': 55, 'yandex': 115, 'vk': 120, 'google': 99, 'email': 42, 'ok': 98}\n",
    "\n",
    "Результат: Максимальный объем продаж на рекламном канале: vk"
   ]
  },
  {
   "cell_type": "code",
   "execution_count": 23,
   "id": "aa8be705",
   "metadata": {},
   "outputs": [
    {
     "name": "stdout",
     "output_type": "stream",
     "text": [
      "Максимальный объем продаж на рекламном канале:  vk\n"
     ]
    }
   ],
   "source": [
    "stats = {'facebook': 55, 'yandex': 115, 'vk': 120, 'google': 99, 'email': 42, 'ok': 98}\n",
    "#max_val = max(stats.items()) #вернёт и ключ и значение в виде кортежа ('yandex', 120)\n",
    "#print(max_val). В таком нагугленном виде выдавался неверный ответ. Яндекс вместо ВК. \n",
    "#Судя по всему в данном случае максимум брался от ключа. \n",
    "#Потому что аналогичное действие со списком также выдавало аналогичный результат\n",
    "#stats = ('facebook', 'yandex', 'vk', 'google', 'email', 'ok')\n",
    "#max(stats) = yandex \n",
    "print(\"Максимальный объем продаж на рекламном канале: \", max(stats, key = stats.get))"
   ]
  },
  {
   "cell_type": "markdown",
   "id": "9ab0a42a",
   "metadata": {},
   "source": [
    "Дополнение к 4 задаче. В таком виде функция max выдает верный ответ, но как точно работает алгоритм я так и не понял. \n",
    "Понятно что get используется для доступа к элементам словаря, но почему не работает stats.value. Почему-то пишет что не является обьектом словаря. \n",
    "Описано тут: https://docs-python.ru/tutorial/vstroennye-funktsii-interpretatora-python/funktsija-max/, но все равно не понятно\n",
    "?max"
   ]
  },
  {
   "cell_type": "code",
   "execution_count": 1,
   "id": "2abcb6ad",
   "metadata": {},
   "outputs": [],
   "source": [
    "?max"
   ]
  },
  {
   "cell_type": "markdown",
   "id": "ceb19087",
   "metadata": {},
   "source": [
    "# Задание 5 (необязательно)\n",
    "Дан список произвольной длины. Необходимо написать код, который на основе исходного списка составит словарь такого уровня вложенности, какова длина исхондого списка.\n",
    "\n",
    "Примеры работы программы:\n",
    "\n",
    "my_list = ['2018-01-01', 'yandex', 'cpc', 100]\n",
    "Результат: {'2018-01-01': {'yandex': {'cpc': 100}}}\n",
    "\n",
    "my_list = ['a', 'b', 'c', 'd', 'e', 'f']\n",
    "Результат: {'a': {'b': {'c': {'d': {'e': 'f'}}}}}\n"
   ]
  },
  {
   "cell_type": "code",
   "execution_count": 6,
   "id": "3bac638f",
   "metadata": {},
   "outputs": [
    {
     "name": "stdout",
     "output_type": "stream",
     "text": [
      "{'a': {'b': {'c': {'d': {'e': 'f'}}}}}\n"
     ]
    }
   ],
   "source": [
    "my_list = ['2018-01-01', 'yandex', 'cpc', 100]\n",
    "my_list2 = ['a', 'b', 'c', 'd', 'e', 'f']\n",
    "my_dict = {my_list2[-2]: my_list2[-1]} \n",
    "#Создаем словарь где в качестве ключа используем предпоследнее значение списка, а в качестве значения, последнее.\n",
    "#очевидно это связано с условием \"независимо от длинны списка\"\n",
    "#print(my_dict)\n",
    "#print(my_list[:-2][::-1])\n",
    "for i in my_list2[:-2][::-1]:\n",
    "#теперь перебираем все что меньше индекса -2 c шагом -1, при этом в my_dict где уже лежит последнее и предпоследнее значение в качестве ключа и значения, добавляется одно значение с конца.\n",
    "    my_dict = {i:my_dict} \n",
    "    #Вот эта строка мне совсем непонятна. \n",
    "    #Хорошо, в ключ мы кладем данные из переменной i, а что мы кладем в значения? \n",
    "    #или условия из третьей строки (my_dict = {my_list2[-2]: my_list2[-1]}) в рамках цикла каждый раз меняют значения?\n",
    "print(my_dict)"
   ]
  },
  {
   "cell_type": "markdown",
   "id": "3c666914",
   "metadata": {},
   "source": [
    "# Задание 6 (необязательно)\n",
    "Дана книга рецептов с информацией о том, сколько ингредиентов нужно для приготовления блюда в расчете на одну порцию (пример данных представлен ниже).\n",
    "Напишите программу, которая будет запрашивать у пользователя количество порций для приготовления этих блюд и отображать информацию о суммарном количестве требуемых ингредиентов в указанном виде.\n",
    "Внимание! Одинаковые ингридиенты с разными размерностями нужно считать раздельно!\n",
    "Пример работы программы:\n",
    "\n",
    "cook_book = {\n",
    "  'салат': [\n",
    "     {'ingridient_name': 'сыр', 'quantity': 50, 'measure': 'гр'},\n",
    "     {'ingridient_name': 'томаты', 'quantity': 2, 'measure': 'шт'},\n",
    "     {'ingridient_name': 'огурцы', 'quantity': 20, 'measure': 'гр'},\n",
    "     {'ingridient_name': 'маслины', 'quantity': 10, 'measure': 'гр'},\n",
    "     {'ingridient_name': 'оливковое масло', 'quantity': 20, 'measure': 'мл'},\n",
    "     {'ingridient_name': 'салат', 'quantity': 10, 'measure': 'гр'},\n",
    "     {'ingridient_name': 'перец', 'quantity': 20, 'measure': 'гр'}\n",
    "    ],\n",
    "  'пицца': [\n",
    "     {'ingridient_name': 'сыр', 'quantity': 20, 'measure': 'гр'},\n",
    "     {'ingridient_name': 'колбаса', 'quantity': 30, 'measure': 'гр'},\n",
    "     {'ingridient_name': 'бекон', 'quantity': 30, 'measure': 'гр'},\n",
    "     {'ingridient_name': 'оливки', 'quantity': 10, 'measure': 'гр'},\n",
    "     {'ingridient_name': 'томаты', 'quantity': 20, 'measure': 'гр'},\n",
    "     {'ingridient_name': 'тесто', 'quantity': 100, 'measure': 'гр'},   \n",
    "    ],\n",
    "  'лимонад': [\n",
    "     {'ingridient_name': 'лимон', 'quantity': 1, 'measure': 'шт'},\n",
    "     {'ingridient_name': 'вода', 'quantity': 200, 'measure': 'мл'},\n",
    "     {'ingridient_name': 'сахар', 'quantity': 10, 'measure': 'гр'},\n",
    "     {'ingridient_name': 'лайм', 'quantity': 20, 'measure': 'гр'},    \n",
    "    ]\n",
    "}\n",
    "\n",
    "Введите количество порций:  \n",
    "3\n",
    "Результат:\n",
    "\n",
    "Сыр: 210 гр  \n",
    "Томаты: 6 шт  \n",
    "Огурцы: 60 гр  \n",
    "Маслины: 30 гр  \n",
    "Оливковое масло: 60 мл  \n",
    "Салат: 30 гр  \n",
    "Перец: 60 гр  \n",
    "Колбаса: 90 гр  \n",
    "Бекон: 90 гр  \n",
    "Оливки: 30 гр  \n",
    "Томаты: 60 гр  \n",
    "Тесто: 300 гр  \n",
    "Лимон: 3 шт  \n",
    "Вода: 600 мл  \n",
    "Сахар: 30 гр  \n",
    "Лайм: 60 гр"
   ]
  },
  {
   "cell_type": "markdown",
   "id": "5f5e4020",
   "metadata": {},
   "source": [
    "## Варианты решений для разбора:"
   ]
  },
  {
   "cell_type": "code",
   "execution_count": 56,
   "id": "f8ef892b",
   "metadata": {},
   "outputs": [
    {
     "name": "stdout",
     "output_type": "stream",
     "text": [
      "введите количество порций: 10\n",
      "сыр 500 гр\n",
      "томаты 20 шт\n",
      "огурцы 200 гр\n",
      "маслины 100 гр\n",
      "оливковое масло 200 мл\n",
      "салат 100 гр\n",
      "перец 200 гр\n",
      "сыр 200 гр\n",
      "колбаса 300 гр\n",
      "бекон 300 гр\n",
      "оливки 100 гр\n",
      "томаты 200 гр\n",
      "тесто 1000 гр\n",
      "лимон 10 шт\n",
      "вода 2000 мл\n",
      "сахар 100 гр\n",
      "лайм 200 гр\n"
     ]
    }
   ],
   "source": [
    "cook_book = {\n",
    "  'салат': [\n",
    "     {'ingridient_name': 'сыр', 'quantity': 50, 'measure': 'гр'},\n",
    "     {'ingridient_name': 'томаты', 'quantity': 2, 'measure': 'шт'},\n",
    "     {'ingridient_name': 'огурцы', 'quantity': 20, 'measure': 'гр'},\n",
    "     {'ingridient_name': 'маслины', 'quantity': 10, 'measure': 'гр'},\n",
    "     {'ingridient_name': 'оливковое масло', 'quantity': 20, 'measure': 'мл'},\n",
    "     {'ingridient_name': 'салат', 'quantity': 10, 'measure': 'гр'},\n",
    "     {'ingridient_name': 'перец', 'quantity': 20, 'measure': 'гр'}\n",
    "    ],\n",
    "  'пицца': [\n",
    "     {'ingridient_name': 'сыр', 'quantity': 20, 'measure': 'гр'},\n",
    "     {'ingridient_name': 'колбаса', 'quantity': 30, 'measure': 'гр'},\n",
    "     {'ingridient_name': 'бекон', 'quantity': 30, 'measure': 'гр'},\n",
    "     {'ingridient_name': 'оливки', 'quantity': 10, 'measure': 'гр'},\n",
    "     {'ingridient_name': 'томаты', 'quantity': 20, 'measure': 'гр'},\n",
    "     {'ingridient_name': 'тесто', 'quantity': 100, 'measure': 'гр'},   \n",
    "    ],\n",
    "  'лимонад': [\n",
    "     {'ingridient_name': 'лимон', 'quantity': 1, 'measure': 'шт'},\n",
    "     {'ingridient_name': 'вода', 'quantity': 200, 'measure': 'мл'},\n",
    "     {'ingridient_name': 'сахар', 'quantity': 10, 'measure': 'гр'},\n",
    "     {'ingridient_name': 'лайм', 'quantity': 20, 'measure': 'гр'},    \n",
    "    ]\n",
    "}\n",
    "portions = int(input(\"введите количество порций: \"))   \n",
    "for i in list(cook_book.values()): #перебирем все значения обернув их в список. Отдельно (вне цикла) это не работает почему-то.\n",
    "    for el in i: #теперь мы идем по этим трем спискам и просто печатаем ингридиенты умножая порции.\n",
    "        print(el['ingridient_name'],portions*el['quantity'],el['measure'])"
   ]
  },
  {
   "cell_type": "markdown",
   "id": "2a186aaa",
   "metadata": {},
   "source": [
    "После первого цикла в переменной i три списка со словарями.\n",
    "[\n",
    "    {'ingridient_name': 'сыр', 'quantity': 50, 'measure': 'гр'}, \n",
    "    {'ingridient_name': 'томаты', 'quantity': 2, 'measure': 'шт'}, \n",
    "    {'ingridient_name': 'огурцы', 'quantity': 20, 'measure': 'гр'}, \n",
    "    {'ingridient_name': 'маслины', 'quantity': 10, 'measure': 'гр'}, \n",
    "    {'ingridient_name': 'оливковое масло', 'quantity': 20, 'measure': 'мл'}, \n",
    "    {'ingridient_name': 'салат', 'quantity': 10, 'measure': 'гр'}, \n",
    "    {'ingridient_name': 'перец', 'quantity': 20, 'measure': 'гр'}\n",
    "]\n",
    "[\n",
    "    {'ingridient_name': 'сыр', 'quantity': 20, 'measure': 'гр'}, \n",
    "    {'ingridient_name': 'колбаса', 'quantity': 30, 'measure': 'гр'}, \n",
    "    {'ingridient_name': 'бекон', 'quantity': 30, 'measure': 'гр'}, \n",
    "    {'ingridient_name': 'оливки', 'quantity': 10, 'measure': 'гр'}, \n",
    "    {'ingridient_name': 'томаты', 'quantity': 20, 'measure': 'гр'}, \n",
    "    {'ingridient_name': 'тесто', 'quantity': 100, 'measure': 'гр'}\n",
    "]\n",
    "[\n",
    "    {'ingridient_name': 'лимон', 'quantity': 1, 'measure': 'шт'}, \n",
    "    {'ingridient_name': 'вода', 'quantity': 200, 'measure': 'мл'}, \n",
    "    {'ingridient_name': 'сахар', 'quantity': 10, 'measure': 'гр'}, \n",
    "    {'ingridient_name': 'лайм', 'quantity': 20, 'measure': 'гр'}\n",
    "]\n",
    "??? Если списки положить в три разные переменные, можно быдет выводить список с разбивкой по блюдам\n",
    "НЕТ. for f, s, t in list(cook_book.values()):\n",
    "получаем ошибку ValueError: too many values to unpack (expected 3)\n",
    "\n",
    "??? А можем мы получить такой список до цикла\n",
    "НЕТ. Потому что в этом случае мы получаем все таки один список.\n",
    "[\n",
    "    [\n",
    "        {'ingridient_name': 'сыр', 'quantity': 50, 'measure': 'гр'}, \n",
    "        {'ingridient_name': 'томаты', 'quantity': 2, 'measure': 'шт'}, \n",
    "        {'ingridient_name': 'огурцы', 'quantity': 20, 'measure': 'гр'}, \n",
    "        {'ingridient_name': 'маслины', 'quantity': 10, 'measure': 'гр'}, \n",
    "        {'ingridient_name': 'оливковое масло', 'quantity': 20, 'measure': 'мл'}, \n",
    "        {'ingridient_name': 'салат', 'quantity': 10, 'measure': 'гр'}, \n",
    "        {'ingridient_name': 'перец', 'quantity': 20, 'measure': 'гр'}\n",
    "    ], \n",
    "    [\n",
    "        {'ingridient_name': 'сыр', 'quantity': 20, 'measure': 'гр'}, \n",
    "        {'ingridient_name': 'колбаса', 'quantity': 30, 'measure': 'гр'}, \n",
    "        {'ingridient_name': 'бекон', 'quantity': 30, 'measure': 'гр'}, \n",
    "        {'ingridient_name': 'оливки', 'quantity': 10, 'measure': 'гр'}, \n",
    "        {'ingridient_name': 'томаты', 'quantity': 20, 'measure': 'гр'}, \n",
    "        {'ingridient_name': 'тесто', 'quantity': 100, 'measure': 'гр'}\n",
    "    ], \n",
    "    [\n",
    "        {'ingridient_name': 'лимон', 'quantity': 1, 'measure': 'шт'}, \n",
    "        {'ingridient_name': 'вода', 'quantity': 200, 'measure': 'мл'}, \n",
    "        {'ingridient_name': 'сахар', 'quantity': 10, 'measure': 'гр'}, \n",
    "        {'ingridient_name': 'лайм', 'quantity': 20, 'measure': 'гр'}\n",
    "    ]\n",
    "]"
   ]
  },
  {
   "cell_type": "code",
   "execution_count": 172,
   "id": "6fc419c9",
   "metadata": {},
   "outputs": [
    {
     "name": "stdout",
     "output_type": "stream",
     "text": [
      "Введите количество порций: 5\n",
      "Сыр: 250 гр\n",
      "Томаты: 10 шт\n",
      "Огурцы: 100 гр\n",
      "Маслины: 50 гр\n",
      "Оливковое масло: 100 мл\n",
      "Салат: 50 гр\n",
      "Перец: 100 гр\n",
      "Сыр: 100 гр\n",
      "Колбаса: 150 гр\n",
      "Бекон: 150 гр\n",
      "Оливки: 50 гр\n",
      "Томаты: 100 гр\n",
      "Тесто: 500 гр\n",
      "Лимон: 5 шт\n",
      "Вода: 1000 мл\n",
      "Сахар: 50 гр\n",
      "Лайм: 100 гр\n"
     ]
    }
   ],
   "source": [
    "cook_book = {\n",
    "'салат': [\n",
    "{'ingridient_name': 'сыр', 'quantity': 50, 'measure': 'гр'},\n",
    "{'ingridient_name': 'томаты', 'quantity': 2, 'measure': 'шт'},\n",
    "{'ingridient_name': 'огурцы', 'quantity': 20, 'measure': 'гр'},\n",
    "{'ingridient_name': 'маслины', 'quantity': 10, 'measure': 'гр'},\n",
    "{'ingridient_name': 'оливковое масло', 'quantity': 20, 'measure': 'мл'},\n",
    "{'ingridient_name': 'салат', 'quantity': 10, 'measure': 'гр'},\n",
    "{'ingridient_name': 'перец', 'quantity': 20, 'measure': 'гр'}\n",
    "],\n",
    "'пицца': [\n",
    "{'ingridient_name': 'сыр', 'quantity': 20, 'measure': 'гр'},\n",
    "{'ingridient_name': 'колбаса', 'quantity': 30, 'measure': 'гр'},\n",
    "{'ingridient_name': 'бекон', 'quantity': 30, 'measure': 'гр'},\n",
    "{'ingridient_name': 'оливки', 'quantity': 10, 'measure': 'гр'},\n",
    "{'ingridient_name': 'томаты', 'quantity': 20, 'measure': 'гр'},\n",
    "{'ingridient_name': 'тесто', 'quantity': 100, 'measure': 'гр'},\n",
    "],\n",
    "'лимонад': [\n",
    "{'ingridient_name': 'лимон', 'quantity': 1, 'measure': 'шт'},\n",
    "{'ingridient_name': 'вода', 'quantity': 200, 'measure': 'мл'},\n",
    "{'ingridient_name': 'сахар', 'quantity': 10, 'measure': 'гр'},\n",
    "{'ingridient_name': 'лайм', 'quantity': 20, 'measure': 'гр'},\n",
    "]\n",
    "}\n",
    "portions = int(input('Введите количество порций: '))\n",
    "for dish, ingr in cook_book.items(): #тут мы отдельно выделяем название блюда и отдельно ингридиенты. только непонятно зачем выделять dish если его потом не использовать\n",
    "    for el in ingr:\n",
    "        print(f'{el[\"ingridient_name\"].capitalize()}: {el[\"quantity\"] * portions} {el[\"measure\"]}') #capitalize для точного соответствия ответу"
   ]
  }
 ],
 "metadata": {
  "kernelspec": {
   "display_name": "Python 3",
   "language": "python",
   "name": "python3"
  },
  "language_info": {
   "codemirror_mode": {
    "name": "ipython",
    "version": 3
   },
   "file_extension": ".py",
   "mimetype": "text/x-python",
   "name": "python",
   "nbconvert_exporter": "python",
   "pygments_lexer": "ipython3",
   "version": "3.8.8"
  }
 },
 "nbformat": 4,
 "nbformat_minor": 5
}
